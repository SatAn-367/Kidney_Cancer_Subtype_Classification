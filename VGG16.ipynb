{
  "nbformat": 4,
  "nbformat_minor": 0,
  "metadata": {
    "colab": {
      "name": "VGG16",
      "provenance": [],
      "collapsed_sections": [],
      "include_colab_link": true
    },
    "kernelspec": {
      "name": "python3",
      "display_name": "Python 3"
    },
    "language_info": {
      "name": "python"
    }
  },
  "cells": [
    {
      "cell_type": "markdown",
      "metadata": {
        "id": "view-in-github",
        "colab_type": "text"
      },
      "source": [
        "<a href=\"https://colab.research.google.com/github/SatAn-367/Kidney_Cancer_Subtype_Classification/blob/main/VGG16.ipynb\" target=\"_parent\"><img src=\"https://colab.research.google.com/assets/colab-badge.svg\" alt=\"Open In Colab\"/></a>"
      ]
    },
    {
      "cell_type": "code",
      "metadata": {
        "id": "PZkiOW6EMjGT"
      },
      "source": [
        "import torch\n",
        "import torchvision as tv \n",
        "from torchvision import datasets, transforms\n",
        "import torch.nn as nn \n",
        "from torch.nn import functional as F\n",
        "\n",
        "import numpy as np \n",
        "from PIL import Image\n",
        "from matplotlib import pyplot as plt \n",
        "\n",
        "import os\n",
        "from tqdm import tqdm"
      ],
      "execution_count": null,
      "outputs": []
    },
    {
      "cell_type": "code",
      "metadata": {
        "id": "woFCrS3zQf8z",
        "colab": {
          "base_uri": "https://localhost:8080/"
        },
        "outputId": "e3d0e940-9da7-4ee8-dda8-b6dee7a327ed"
      },
      "source": [
        "from google.colab import drive \n",
        "drive.mount('/content/drive')"
      ],
      "execution_count": null,
      "outputs": [
        {
          "output_type": "stream",
          "text": [
            "Mounted at /content/drive\n"
          ],
          "name": "stdout"
        }
      ]
    },
    {
      "cell_type": "code",
      "metadata": {
        "id": "zKXDPvvRRVUF",
        "colab": {
          "base_uri": "https://localhost:8080/"
        },
        "outputId": "4fabfc33-6b0a-401e-deda-32d97abfcf47"
      },
      "source": [
        "train_dir = 'drive/MyDrive/IVP_Project_Sem6/Dataset/Training_Images'\n",
        "test_dir = 'drive/MyDrive/IV_Pro'"
      ],
      "execution_count": null,
      "outputs": [
        {
          "output_type": "stream",
          "text": [
            "cpu\n"
          ],
          "name": "stdout"
        }
      ]
    }
  ]
}